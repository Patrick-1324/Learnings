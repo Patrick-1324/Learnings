{
 "cells": [
  {
   "cell_type": "markdown",
   "id": "db56d4ba",
   "metadata": {},
   "source": [
    "# Project - Caesar Cipher\n",
    "### Goal\n",
    "- Create [Caesar Cipher](https://en.wikipedia.org/wiki/Caesar_cipher) encryption and decryption functionality"
   ]
  },
  {
   "cell_type": "markdown",
   "id": "896c6dfc",
   "metadata": {},
   "source": [
    "### Description\n",
    "- The Caesar Cipher is a simple substitution cipher, which is limited to only shift the characters by fixed number.\n",
    "- Let's take an example\n",
    "    - Imagine you got the message: BRX DUH DZHVRPH. What to make out of it. Makes no sense.\n",
    "    - But what if we get help from this diagram\n",
    "    \n",
    "![Caesar Cipher](img/CaesarCipher.png)"
   ]
  },
  {
   "cell_type": "markdown",
   "id": "b35635a6",
   "metadata": {},
   "source": [
    "### Project\n",
    "- Implement helper function **encrypt_char(char, key)** to encrypt a single character, **char**, with **key**.\n",
    "    - It can be helpful to use **ord()**, **chr()** and **%**.\n",
    "    - Calculation can be a bit tricky.\n",
    "- Implement **encrypt_message(message, key)**, it should use the helper function.\n",
    "- Implement similar functions for decrypt."
   ]
  },
  {
   "cell_type": "code",
   "execution_count": 72,
   "id": "1220b64e",
   "metadata": {},
   "outputs": [],
   "source": [
    "def encrypt_char(char, key):\n",
    "    n = ord(char)\n",
    "    n = n + key\n",
    "    encrypted_char = chr(n)\n",
    "    if char == ' ':\n",
    "        encrypted_char = ' '\n",
    "    return encrypted_char\n",
    "    print(encrypted_char)\n",
    "# encrypt_char('A', 3)"
   ]
  },
  {
   "cell_type": "code",
   "execution_count": 88,
   "id": "f863e116",
   "metadata": {},
   "outputs": [
    {
     "name": "stdout",
     "output_type": "stream",
     "text": [
      "Hi I am Prateek\n",
      "['H', 'i', ' ', 'I', ' ', 'a', 'm', ' ', 'P', 'r', 'a', 't', 'e', 'e', 'k']\n",
      "M\n",
      "n\n",
      " \n",
      "N\n",
      " \n",
      "f\n",
      "r\n",
      " \n",
      "U\n",
      "w\n",
      "f\n",
      "y\n",
      "j\n",
      "j\n",
      "p\n",
      "['M', 'n', ' ', 'N', ' ', 'f', 'r', ' ', 'U', 'w', 'f', 'y', 'j', 'j', 'p']\n",
      "Mn N fr Uwfyjjp\n"
     ]
    }
   ],
   "source": [
    "# def encrypt_message(message, key):\n",
    "message = \"Hi I am Prateek\"\n",
    "print(message)\n",
    "key = 5\n",
    "message_list = []\n",
    "for l in message:\n",
    "    message_list.append(l)\n",
    "print(message_list)\n",
    "encrypt_list = []\n",
    "for l in message_list:\n",
    "    result = encrypt_char(l, key)\n",
    "    encrypt_list.append(result)\n",
    "    print(result)\n",
    "print(encrypt_list)\n",
    "encrypted_message = \"\"\n",
    "for x in encrypt_list:\n",
    "    encrypted_message += x\n",
    "print(encrypted_message)"
   ]
  },
  {
   "cell_type": "code",
   "execution_count": 74,
   "id": "c43624aa",
   "metadata": {},
   "outputs": [],
   "source": [
    "def decrypt_char(char, key):\n",
    "    n = ord(char)\n",
    "    n = n - key\n",
    "    decrypted_char = chr(n)\n",
    "    if char == ' ':\n",
    "        decrypted_char = ' '\n",
    "    return decrypted_char\n",
    "    print(decrypted_char)"
   ]
  },
  {
   "cell_type": "code",
   "execution_count": 89,
   "id": "34ad030d",
   "metadata": {},
   "outputs": [
    {
     "name": "stdout",
     "output_type": "stream",
     "text": [
      "Mn N fr Uwfyjjp\n",
      "['M', 'n', ' ', 'N', ' ', 'f', 'r', ' ', 'U', 'w', 'f', 'y', 'j', 'j', 'p']\n",
      "H\n",
      "i\n",
      " \n",
      "I\n",
      " \n",
      "a\n",
      "m\n",
      " \n",
      "P\n",
      "r\n",
      "a\n",
      "t\n",
      "e\n",
      "e\n",
      "k\n",
      "['H', 'i', ' ', 'I', ' ', 'a', 'm', ' ', 'P', 'r', 'a', 't', 'e', 'e', 'k']\n",
      "Hi I am Prateek\n"
     ]
    }
   ],
   "source": [
    "# message = \"You Are awesome\"\n",
    "\n",
    "message_to_decrypt = encrypted_message\n",
    "print(message_to_decrypt)\n",
    "key = 5\n",
    "de_message_list = []\n",
    "for l in message_to_decrypt:\n",
    "    de_message_list.append(l)\n",
    "print(de_message_list)\n",
    "decrypt_list = []\n",
    "for l in de_message_list:\n",
    "    result = decrypt_char(l, key)\n",
    "    decrypt_list.append(result)\n",
    "    print(result)\n",
    "print(decrypt_list)\n",
    "org_message = \"\"\n",
    "for x in decrypt_list:\n",
    "    org_message += x\n",
    "print(org_message)"
   ]
  },
  {
   "cell_type": "code",
   "execution_count": null,
   "id": "3e670be3",
   "metadata": {},
   "outputs": [],
   "source": []
  }
 ],
 "metadata": {
  "kernelspec": {
   "display_name": "Python 3 (ipykernel)",
   "language": "python",
   "name": "python3"
  },
  "language_info": {
   "codemirror_mode": {
    "name": "ipython",
    "version": 3
   },
   "file_extension": ".py",
   "mimetype": "text/x-python",
   "name": "python",
   "nbconvert_exporter": "python",
   "pygments_lexer": "ipython3",
   "version": "3.9.12"
  }
 },
 "nbformat": 4,
 "nbformat_minor": 5
}
