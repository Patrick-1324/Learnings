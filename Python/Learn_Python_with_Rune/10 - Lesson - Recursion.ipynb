{
 "cells": [
  {
   "cell_type": "markdown",
   "id": "9b681b63",
   "metadata": {},
   "source": [
    "# Recursion\n",
    "### Goal\n",
    "- Learn recursion and recusive function\n",
    "- In computer science, recursion is a method of solving a problem where the solution depends on solutions to smaller instances of the same problem."
   ]
  },
  {
   "cell_type": "code",
   "execution_count": 1,
   "id": "b961a7ec",
   "metadata": {},
   "outputs": [
    {
     "data": {
      "text/plain": [
       "21"
      ]
     },
     "execution_count": 1,
     "metadata": {},
     "output_type": "execute_result"
    }
   ],
   "source": [
    "def count(n):\n",
    "    if n <= 0:\n",
    "        return n\n",
    "    return n + count(n-1)\n",
    "count(6)"
   ]
  },
  {
   "cell_type": "code",
   "execution_count": null,
   "id": "d9da2a26",
   "metadata": {},
   "outputs": [],
   "source": []
  },
  {
   "cell_type": "code",
   "execution_count": null,
   "id": "00b7c282",
   "metadata": {},
   "outputs": [],
   "source": []
  },
  {
   "cell_type": "markdown",
   "id": "0d326f63",
   "metadata": {},
   "source": [
    "Given the Fibonacci number defined as\n",
    "\n",
    "- $F_0 = 0$\n",
    "- $F_1 = 1$\n",
    "- $F_n = F_{n-1} + F_{n-2}$\n",
    "\n",
    "The sequence begins as follows\n",
    "\n",
    "0, 1, 1, 2, 3, 5, 8, 13, 21, 34, 55, 89, 144, ...\n",
    "\n",
    "Create a list of first $n$ Fibonacci numbers.\n",
    "\n",
    "- https://en.wikipedia.org/wiki/Fibonacci_number"
   ]
  },
  {
   "cell_type": "code",
   "execution_count": 2,
   "id": "f8a26d17",
   "metadata": {},
   "outputs": [],
   "source": [
    "f0 = 0\n",
    "f1 = 1"
   ]
  },
  {
   "cell_type": "code",
   "execution_count": 3,
   "id": "0b6dcf2b",
   "metadata": {},
   "outputs": [],
   "source": [
    "f2 = f1 + f0"
   ]
  },
  {
   "cell_type": "code",
   "execution_count": 4,
   "id": "118ae31b",
   "metadata": {},
   "outputs": [
    {
     "data": {
      "text/plain": [
       "1"
      ]
     },
     "execution_count": 4,
     "metadata": {},
     "output_type": "execute_result"
    }
   ],
   "source": [
    "f2"
   ]
  },
  {
   "cell_type": "code",
   "execution_count": 6,
   "id": "13f8410e",
   "metadata": {},
   "outputs": [
    {
     "data": {
      "text/plain": [
       "2"
      ]
     },
     "execution_count": 6,
     "metadata": {},
     "output_type": "execute_result"
    }
   ],
   "source": [
    "f3 = f2+f1\n",
    "f3"
   ]
  },
  {
   "cell_type": "code",
   "execution_count": 2,
   "id": "cbc27cec",
   "metadata": {},
   "outputs": [
    {
     "name": "stdout",
     "output_type": "stream",
     "text": [
      "0, 1, 1, 2, 3, 5, 8, 13, 21, 34, "
     ]
    }
   ],
   "source": [
    "def fib(n):\n",
    "    if n<= 1:\n",
    "        return n\n",
    "    return fib(n-1) + fib(n-2)\n",
    "for i in range(0, 10):\n",
    "    print(fib(i), end=', ')"
   ]
  },
  {
   "cell_type": "code",
   "execution_count": null,
   "id": "080ae94d",
   "metadata": {},
   "outputs": [],
   "source": []
  }
 ],
 "metadata": {
  "kernelspec": {
   "display_name": "Python 3 (ipykernel)",
   "language": "python",
   "name": "python3"
  },
  "language_info": {
   "codemirror_mode": {
    "name": "ipython",
    "version": 3
   },
   "file_extension": ".py",
   "mimetype": "text/x-python",
   "name": "python",
   "nbconvert_exporter": "python",
   "pygments_lexer": "ipython3",
   "version": "3.9.12"
  }
 },
 "nbformat": 4,
 "nbformat_minor": 5
}
