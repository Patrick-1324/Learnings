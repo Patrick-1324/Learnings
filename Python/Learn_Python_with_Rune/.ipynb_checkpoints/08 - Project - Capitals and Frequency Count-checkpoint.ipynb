{
 "cells": [
  {
   "cell_type": "markdown",
   "id": "d9224d5c",
   "metadata": {},
   "source": [
    "# Project - Capitals and Frequency Count\n",
    "### Goal\n",
    "- Guess a Captial Game\n",
    "- Frequency Count"
   ]
  },
  {
   "cell_type": "markdown",
   "id": "fc7645de",
   "metadata": {},
   "source": [
    "### Description of Guess a Capital Game\n",
    "- Use a dictionary to keep country-capital pairs as key-value.\n",
    "    - {'France': 'Paris', 'Finland': 'Helsinki', 'Sweden': 'Stockholm', 'Denmark': 'Copenhagen'}\n",
    "- Prompt the user 3 times for a capital in a country.\n",
    "- Print the number of correct capitals.\n",
    "- Feel free to print whether answer is correct, and what it is."
   ]
  },
  {
   "cell_type": "code",
   "execution_count": 15,
   "id": "25759a95",
   "metadata": {},
   "outputs": [
    {
     "name": "stdout",
     "output_type": "stream",
     "text": [
      "What is the capital of France? Paris\n",
      "Correct! The capital of France is Paris\n",
      "What is the capital of India? Delhi\n",
      "Correct! The capital of India is Delhi\n",
      "What is the capital of China? Bejing\n",
      "Inorrect! The capital of China is Beijing\n",
      "Your Score: 2\n"
     ]
    }
   ],
   "source": [
    "import random\n",
    "capital_dict = {\n",
    "    'India': 'Delhi', 'Russia': 'Moscow', 'China': 'Beijing', 'France':'Paris'\n",
    "}\n",
    "score = 0\n",
    "for i in range(3):\n",
    "    country = random.choice(list(capital_dict.keys()))\n",
    "    \n",
    "    answer = input(f\"What is the capital of {country}? \")\n",
    "    \n",
    "    if answer.lower() == capital_dict[country].lower():\n",
    "        print(f\"Correct! The capital of {country} is {capital_dict[country]}\")\n",
    "        score = score + 1\n",
    "    else:\n",
    "        print(f\"Inorrect! The capital of {country} is {capital_dict[country]}\")\n",
    "print(f\"Your Score: {score}\")"
   ]
  },
  {
   "cell_type": "code",
   "execution_count": null,
   "id": "7549ee0c",
   "metadata": {},
   "outputs": [],
   "source": []
  },
  {
   "cell_type": "markdown",
   "id": "5e28b899",
   "metadata": {},
   "source": [
    "### Description of Frequency Count\n",
    "- Prompt the user for a line of text\n",
    "- Use a dictionary to make frequency count of the letters.\n",
    "- Print the frequencies"
   ]
  },
  {
   "cell_type": "code",
   "execution_count": 27,
   "id": "9ad7adc0",
   "metadata": {},
   "outputs": [
    {
     "name": "stdout",
     "output_type": "stream",
     "text": [
      "Enter the TextHello World\n",
      "H : 1\n",
      "e : 1\n",
      "l : 3\n",
      "o : 2\n",
      "  : 1\n",
      "W : 1\n",
      "r : 1\n",
      "d : 1\n"
     ]
    }
   ],
   "source": [
    "text = input(\"Enter the Text\")\n",
    "text_list = []\n",
    "for t in text:\n",
    "    text_list.append(t)\n",
    "#print(text_list) \n",
    "freq_count = {}\n",
    "for t in text_list:\n",
    "    freq_count[t] = freq_count.get(t, 0) + 1\n",
    "#print(freq_count)\n",
    "for key,value in freq_count.items():\n",
    "    print(f'{key} : {value}')"
   ]
  },
  {
   "cell_type": "code",
   "execution_count": null,
   "id": "9156aa92",
   "metadata": {},
   "outputs": [],
   "source": []
  }
 ],
 "metadata": {
  "kernelspec": {
   "display_name": "Python 3 (ipykernel)",
   "language": "python",
   "name": "python3"
  },
  "language_info": {
   "codemirror_mode": {
    "name": "ipython",
    "version": 3
   },
   "file_extension": ".py",
   "mimetype": "text/x-python",
   "name": "python",
   "nbconvert_exporter": "python",
   "pygments_lexer": "ipython3",
   "version": "3.9.12"
  }
 },
 "nbformat": 4,
 "nbformat_minor": 5
}
