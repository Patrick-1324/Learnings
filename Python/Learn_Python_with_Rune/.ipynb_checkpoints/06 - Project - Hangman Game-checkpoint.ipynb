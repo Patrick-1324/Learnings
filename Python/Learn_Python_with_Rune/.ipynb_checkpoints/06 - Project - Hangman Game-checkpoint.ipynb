{
 "cells": [
  {
   "cell_type": "markdown",
   "id": "7594553a",
   "metadata": {},
   "source": [
    "# Project - Hangman Game\n",
    "### Goal\n",
    "- Create a [Hangman Game](https://en.wikipedia.org/wiki/Hangman_(game))"
   ]
  },
  {
   "cell_type": "markdown",
   "id": "9598f802",
   "metadata": {},
   "source": [
    "### Description\n",
    "- The game is as follows.\n",
    "- Computer has a list of words.\n",
    "- Computer chooses a random word from the list.\n",
    "- The player gets 10 wrong guesses (10 turns).\n",
    "- The game follows this loop\n",
    "    - Computer prints the word character by character replacing with underscore those not guessed yet (initial no characters has been guessed).\n",
    "    - Player guesses a character.\n",
    "    - If character is not in word, a turn is withdrawn\n",
    "    - If no turns left, computer wins.\n",
    "    - If player has guessed all characters, player wins\n",
    "- An initial word list could be: ['father', 'enterprise', 'science', 'programming', 'resistance', 'fiction', 'condition', 'reverse', 'computer', 'python']"
   ]
  },
  {
   "cell_type": "code",
   "execution_count": 6,
   "id": "c090b787",
   "metadata": {},
   "outputs": [
    {
     "name": "stdout",
     "output_type": "stream",
     "text": [
      "Guess the following Word\n",
      "etrsneriep\n",
      "_Insert the characters: enterprise\n"
     ]
    },
    {
     "ename": "NameError",
     "evalue": "name 'answer' is not defined",
     "output_type": "error",
     "traceback": [
      "\u001b[1;31m---------------------------------------------------------------------------\u001b[0m",
      "\u001b[1;31mNameError\u001b[0m                                 Traceback (most recent call last)",
      "Input \u001b[1;32mIn [6]\u001b[0m, in \u001b[0;36m<cell line: 9>\u001b[1;34m()\u001b[0m\n\u001b[0;32m     11\u001b[0m \u001b[38;5;28mprint\u001b[39m(\u001b[38;5;124m\"\u001b[39m\u001b[38;5;124m_\u001b[39m\u001b[38;5;124m\"\u001b[39m, end \u001b[38;5;241m=\u001b[39m \u001b[38;5;124m'\u001b[39m\u001b[38;5;124m'\u001b[39m)\n\u001b[0;32m     12\u001b[0m s \u001b[38;5;241m=\u001b[39m \u001b[38;5;28minput\u001b[39m(\u001b[38;5;124m\"\u001b[39m\u001b[38;5;124mInsert the characters: \u001b[39m\u001b[38;5;124m\"\u001b[39m)\n\u001b[1;32m---> 13\u001b[0m \u001b[43manswer\u001b[49m[\u001b[38;5;28mlen\u001b[39m(word)] \u001b[38;5;241m=\u001b[39m []\n\u001b[0;32m     14\u001b[0m answer\u001b[38;5;241m.\u001b[39mappend(s)\n\u001b[0;32m     15\u001b[0m \u001b[38;5;28;01mif\u001b[39;00m s \u001b[38;5;129;01mnot\u001b[39;00m \u001b[38;5;129;01min\u001b[39;00m jumbled_word:\n",
      "\u001b[1;31mNameError\u001b[0m: name 'answer' is not defined"
     ]
    }
   ],
   "source": [
    "##########MY TRY#######################\n",
    "\n",
    "import random\n",
    "words = ['father', 'enterprise', 'science', 'programming', 'resistance', 'fiction', 'condition', 'reverse', 'computer', 'python']\n",
    "word = random.choice(words)\n",
    "\n",
    "jumbled_word = ''.join(random.sample(word, len(word)))\n",
    "print(\"Guess the following Word\")\n",
    "print(jumbled_word)\n",
    "count = 0\n",
    "while count < 10:\n",
    "    for i in jumbled_word:\n",
    "        print(\"_\", end = '')\n",
    "        s = input(\"Insert the characters: \")\n",
    "        answer[len(word)] = []\n",
    "        answer.append(s)\n",
    "        if s not in jumbled_word:\n",
    "            count = count + 1\n",
    "            answer[len(word)] = []\n",
    "            print(f\"{10 - count} chances left\")\n",
    "        else:\n",
    "            print(s, end ='')\n",
    "            length = len(jumbled_word) - len(s)\n",
    "            for i in range(length, len(jumbled_word)):\n",
    "                print(\"_\",end = '')\n",
    "    if word == answer:\n",
    "        print(\"That's Correct\")\n",
    "    else:\n",
    "        print(f\"Incorrect, The answer is {word}\")\n"
   ]
  },
  {
   "cell_type": "code",
   "execution_count": 3,
   "id": "d74d413d",
   "metadata": {},
   "outputs": [
    {
     "name": "stdout",
     "output_type": "stream",
     "text": [
      "Guess the following Word\n",
      "sneciec\n",
      "You have 10 turns left\n",
      "_ _ _ _ _ _ _ \n",
      "Guess a char: s\n",
      "You have 10 turns left\n",
      "s_ _ _ _ _ _ \n",
      "Guess a char: e\n",
      "You have 10 turns left\n",
      "s_ _ e_ _ e\n",
      "Guess a char: p\n",
      "You have 9 turns left\n",
      "s_ _ e_ _ e\n",
      "Guess a char: v\n",
      "You have 8 turns left\n",
      "s_ _ e_ _ e\n",
      "Guess a char: s\n",
      "You have 8 turns left\n",
      "s_ _ e_ _ e\n",
      "Guess a char: l\n",
      "You have 7 turns left\n",
      "s_ _ e_ _ e\n",
      "Guess a char: c\n",
      "You have 7 turns left\n",
      "sc_ e_ ce\n",
      "Guess a char: i\n",
      "You have 7 turns left\n",
      "scie_ ce\n",
      "Guess a char: n\n",
      "You have 7 turns left\n",
      "science\n"
     ]
    }
   ],
   "source": [
    "import random\n",
    "words = ['father', 'enterprise', 'science', 'programming', 'resistance', 'fiction', 'condition', 'reverse', 'computer', 'python']\n",
    "word = random.choice(words)\n",
    "jumbled_word = ''.join(random.sample(word, len(word)))\n",
    "print(\"Guess the following Word\")\n",
    "print(jumbled_word)\n",
    "\n",
    "guesses = ''\n",
    "turns = 10\n",
    "\n",
    "while turns > 0:\n",
    "    print(f\"You have {turns} turns left\")\n",
    "\n",
    "    guessed_all = True\n",
    "    for c in word:\n",
    "        if c in guesses:\n",
    "            print(c, end='')\n",
    "        else:\n",
    "            print('_', end=' ')\n",
    "            guessed_all = False\n",
    "    print()\n",
    "\n",
    "    if not guessed_all:\n",
    "        guess = input(\"Guess a char: \")\n",
    "        guesses = guesses + guess\n",
    "        if guess not in word:\n",
    "            turns = turns - 1\n",
    "    else:\n",
    "        turns = 0\n",
    "    \n",
    "    "
   ]
  },
  {
   "cell_type": "code",
   "execution_count": null,
   "id": "90cd194d",
   "metadata": {},
   "outputs": [],
   "source": []
  }
 ],
 "metadata": {
  "kernelspec": {
   "display_name": "Python 3 (ipykernel)",
   "language": "python",
   "name": "python3"
  },
  "language_info": {
   "codemirror_mode": {
    "name": "ipython",
    "version": 3
   },
   "file_extension": ".py",
   "mimetype": "text/x-python",
   "name": "python",
   "nbconvert_exporter": "python",
   "pygments_lexer": "ipython3",
   "version": "3.9.12"
  }
 },
 "nbformat": 4,
 "nbformat_minor": 5
}
