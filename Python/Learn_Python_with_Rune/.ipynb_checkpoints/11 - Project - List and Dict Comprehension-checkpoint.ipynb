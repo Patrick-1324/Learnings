{
 "cells": [
  {
   "cell_type": "markdown",
   "id": "1206e398",
   "metadata": {},
   "source": [
    "# Project - List and Dict Comprehension\n",
    "### Goal\n",
    "- Learn to use list and dict comprehension"
   ]
  },
  {
   "cell_type": "markdown",
   "id": "c0828dad",
   "metadata": {},
   "source": [
    "### Description\n",
    "- Redo some of our code"
   ]
  },
  {
   "cell_type": "markdown",
   "id": "204916c8",
   "metadata": {},
   "source": [
    "### Encrypt with List Comprehension\n",
    "- Use **encrypt_char** and list comprehension to encrypt a string (\"you are awesome\").\n",
    "- HINT: You can use join(.)"
   ]
  },
  {
   "cell_type": "code",
   "execution_count": 13,
   "id": "97bde0d6",
   "metadata": {},
   "outputs": [],
   "source": [
    "def encrypt_char(char, key):\n",
    "    return chr(ord('A') +(ord(char)-ord('A') + key) % 26)"
   ]
  },
  {
   "cell_type": "code",
   "execution_count": 2,
   "id": "cda43d72",
   "metadata": {},
   "outputs": [
    {
     "data": {
      "text/plain": [
       "'B'"
      ]
     },
     "execution_count": 2,
     "metadata": {},
     "output_type": "execute_result"
    }
   ],
   "source": [
    "encrypt_char('Y', 3)"
   ]
  },
  {
   "cell_type": "code",
   "execution_count": 14,
   "id": "e7cd3f3d",
   "metadata": {},
   "outputs": [
    {
     "data": {
      "text/plain": [
       "'HXD JAN JFNBXVN'"
      ]
     },
     "execution_count": 14,
     "metadata": {},
     "output_type": "execute_result"
    }
   ],
   "source": [
    "message = \"you are awesome\"\n",
    "message.upper()\n",
    "key = 3\n",
    "cipher_list =[encrypt_char(c,key) if c not in ' ,.' else c for c in message]\n",
    "''.join(cipher_list)"
   ]
  },
  {
   "cell_type": "markdown",
   "id": "6af71633",
   "metadata": {},
   "source": [
    "### Decrypt with List Comprehension\n",
    "- Use **decrypt_char** and list comprehension to decrypt the cipher."
   ]
  },
  {
   "cell_type": "code",
   "execution_count": 15,
   "id": "b71ae182",
   "metadata": {},
   "outputs": [],
   "source": [
    "def decrypt_char(char, key):\n",
    "    return encrypt_char(char, 26-key)"
   ]
  },
  {
   "cell_type": "code",
   "execution_count": 16,
   "id": "1f3dacc4",
   "metadata": {},
   "outputs": [
    {
     "data": {
      "text/plain": [
       "'EUA GXK GCKYUSK'"
      ]
     },
     "execution_count": 16,
     "metadata": {},
     "output_type": "execute_result"
    }
   ],
   "source": [
    "cipher = 'HXD JAN JFNBXVN'\n",
    "key = 3\n",
    "message_list = [decrypt_char(c, key) if c not in ' ,.' else c for c in cipher.upper()]\n",
    "''.join(message_list)"
   ]
  },
  {
   "cell_type": "markdown",
   "id": "e46a758c",
   "metadata": {},
   "source": [
    "### Use Dict Comprehension for Frequency Count\n",
    "- Prompt the user for a line of text.\n",
    "- Use dict comprehension to count the number of occurences of each characerter.\n",
    "- Example: \"aabbccccc\" should give {'a': 2, 'b': 2, 'c': 5}\n",
    "- HINT: using count('a') on a string will return the number of occurences of 'a'."
   ]
  },
  {
   "cell_type": "code",
   "execution_count": 3,
   "id": "87027aa2",
   "metadata": {},
   "outputs": [
    {
     "name": "stdout",
     "output_type": "stream",
     "text": [
      "Input line of textaabbbbcc\n",
      "aabbbbcc\n",
      "{'c', 'a', 'b'}\n"
     ]
    },
    {
     "data": {
      "text/plain": [
       "{'a': 2, 'b': 4, 'c': 2}"
      ]
     },
     "execution_count": 3,
     "metadata": {},
     "output_type": "execute_result"
    }
   ],
   "source": [
    "text = input(\"Input line of text\")\n",
    "print(text)\n",
    "print(set(text))\n",
    "\n",
    "{c: text.count(c) for c in text}"
   ]
  },
  {
   "cell_type": "code",
   "execution_count": null,
   "id": "fcbadfd7",
   "metadata": {},
   "outputs": [],
   "source": []
  }
 ],
 "metadata": {
  "kernelspec": {
   "display_name": "Python 3 (ipykernel)",
   "language": "python",
   "name": "python3"
  },
  "language_info": {
   "codemirror_mode": {
    "name": "ipython",
    "version": 3
   },
   "file_extension": ".py",
   "mimetype": "text/x-python",
   "name": "python",
   "nbconvert_exporter": "python",
   "pygments_lexer": "ipython3",
   "version": "3.9.12"
  }
 },
 "nbformat": 4,
 "nbformat_minor": 5
}
