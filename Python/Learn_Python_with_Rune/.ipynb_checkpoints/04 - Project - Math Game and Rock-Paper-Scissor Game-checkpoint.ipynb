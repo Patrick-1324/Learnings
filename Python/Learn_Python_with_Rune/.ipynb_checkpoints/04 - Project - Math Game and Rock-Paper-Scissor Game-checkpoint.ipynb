{
 "cells": [
  {
   "cell_type": "markdown",
   "id": "7a2ec6b0",
   "metadata": {},
   "source": [
    "# Project - Math Game and Rock-Paper-Scissor Game\n",
    "### Goal\n",
    "- Create a Math Game\n",
    "- Create a [Rock-Paper-Scissors Game](https://en.wikipedia.org/wiki/Rock_paper_scissors)"
   ]
  },
  {
   "cell_type": "markdown",
   "id": "5a508036",
   "metadata": {},
   "source": [
    "### Math Game\n",
    "- First, import random\n",
    "- Get a random inteteger from the range 1 to 10 (both inclusive)\n",
    "- Get another random inteteger from the range 1 to 10 (both inclusive)\n",
    "- Prompt the user for what the two integers multiplied is\n",
    "- Print if correct or not. If not corrrect, print the correct answer."
   ]
  },
  {
   "cell_type": "code",
   "execution_count": 3,
   "id": "25ad0935",
   "metadata": {},
   "outputs": [
    {
     "name": "stdout",
     "output_type": "stream",
     "text": [
      "What is 7 times 4? 28\n",
      "Correct 7 times 4 is 28\n"
     ]
    }
   ],
   "source": [
    "import random\n",
    "a = random.randint(1, 10)\n",
    "b= random.randint(1, 10)\n",
    "answer = input(f\"What is {a} times {b}? \")\n",
    "answer = int(answer)\n",
    "if answer == a*b:\n",
    "    print(f\"Correct {a} times {b} is {answer}\")\n",
    "else:\n",
    "    print(f\"No, {a} times {b} is {answer}\")"
   ]
  },
  {
   "cell_type": "markdown",
   "id": "0c6377c6",
   "metadata": {},
   "source": [
    "### Rock, Paper, Scissors Game\n",
    "\n",
    "![Rock Paper Scissor](img/RockPaperScissors.png \"Rock-Paper-Scissor\")"
   ]
  },
  {
   "cell_type": "code",
   "execution_count": 1,
   "id": "f8b74306",
   "metadata": {},
   "outputs": [
    {
     "name": "stdout",
     "output_type": "stream",
     "text": [
      "Enter Choice (ROCK / PAPER / SCISSORS\n",
      "Choice: rock\n",
      "Com: SCISSORS\n",
      "User Wins\n"
     ]
    }
   ],
   "source": [
    "import random\n",
    "print(\"Enter Choice (ROCK / PAPER / SCISSORS\")\n",
    "user_input = input(\"Choice: \")\n",
    "user_input = user_input.upper()\n",
    "\n",
    "com_input = random.randint(1, 3)\n",
    "if com_input == 1:\n",
    "    com_input == 'ROCK'\n",
    "    print(f\"Com: {com_input}\")\n",
    "elif com_input == 2:\n",
    "    com_input ='PAPER'\n",
    "    print(f\"Com: {com_input}\")\n",
    "elif com_input == 3:\n",
    "    com_input ='SCISSORS'\n",
    "    print(f\"Com: {com_input}\")\n",
    "    \n",
    "if com_input == user_input:\n",
    "    print(\"Draw\")\n",
    "elif user_input == 'ROCK':\n",
    "    if com_input == 'PAPER':\n",
    "        print(\"Com Wins\")\n",
    "    elif com_input == 'SCISSORS':\n",
    "        print(\"User Wins\")\n",
    "elif user_input == 'PAPER':\n",
    "    if com_input == 'ROCK':\n",
    "        print(\"User Wins\")\n",
    "    elif com_input == 'SCISSORS':\n",
    "        print(\"Com Wins\")\n",
    "elif user_input == 'SCISSORS':\n",
    "    if com_input == 'PAPER':\n",
    "        print(\"User Wins\")\n",
    "    elif user_input == 'ROCK':\n",
    "        print(\"Com Wins\")\n"
   ]
  },
  {
   "cell_type": "code",
   "execution_count": null,
   "id": "b4caaf38",
   "metadata": {},
   "outputs": [],
   "source": []
  }
 ],
 "metadata": {
  "kernelspec": {
   "display_name": "Python 3 (ipykernel)",
   "language": "python",
   "name": "python3"
  },
  "language_info": {
   "codemirror_mode": {
    "name": "ipython",
    "version": 3
   },
   "file_extension": ".py",
   "mimetype": "text/x-python",
   "name": "python",
   "nbconvert_exporter": "python",
   "pygments_lexer": "ipython3",
   "version": "3.9.12"
  }
 },
 "nbformat": 4,
 "nbformat_minor": 5
}
