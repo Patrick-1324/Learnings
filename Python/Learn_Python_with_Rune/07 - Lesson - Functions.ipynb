{
 "cells": [
  {
   "cell_type": "markdown",
   "id": "5eea4217",
   "metadata": {},
   "source": [
    "# Functions\n",
    "### Goal\n",
    "- Learn about functions\n",
    "- Use functions to structure code\n",
    "- Functions makes the code more readable"
   ]
  },
  {
   "cell_type": "code",
   "execution_count": 1,
   "id": "221aadf9",
   "metadata": {},
   "outputs": [],
   "source": [
    "def my_func():\n",
    "    print(\"Hello World!!\")\n",
    "    "
   ]
  },
  {
   "cell_type": "code",
   "execution_count": 2,
   "id": "ea8c781b",
   "metadata": {},
   "outputs": [
    {
     "name": "stdout",
     "output_type": "stream",
     "text": [
      "Hello World!!\n"
     ]
    }
   ],
   "source": [
    "my_func()"
   ]
  },
  {
   "cell_type": "code",
   "execution_count": 3,
   "id": "49755540",
   "metadata": {},
   "outputs": [],
   "source": [
    "def print_name(name):\n",
    "    print(f\"Hello, {name}\")"
   ]
  },
  {
   "cell_type": "code",
   "execution_count": 5,
   "id": "570aeb98",
   "metadata": {},
   "outputs": [
    {
     "name": "stdout",
     "output_type": "stream",
     "text": [
      "Hello, daniel\n"
     ]
    }
   ],
   "source": [
    "print_name('daniel')"
   ]
  },
  {
   "cell_type": "code",
   "execution_count": 6,
   "id": "90d6cfc9",
   "metadata": {},
   "outputs": [],
   "source": [
    "def print_age(name, age):\n",
    "    print(f\"Hello, {name}\")\n",
    "    print(f\"You are {age} years old\")"
   ]
  },
  {
   "cell_type": "code",
   "execution_count": 7,
   "id": "3aefc0a1",
   "metadata": {},
   "outputs": [
    {
     "name": "stdout",
     "output_type": "stream",
     "text": [
      "Hello, patt\n",
      "You are 23 years old\n"
     ]
    }
   ],
   "source": [
    "print_age('patt', 23)"
   ]
  },
  {
   "cell_type": "code",
   "execution_count": 11,
   "id": "008f5003",
   "metadata": {},
   "outputs": [],
   "source": [
    "def calculate_age(birth_year):\n",
    "    return 2021-birth_year"
   ]
  },
  {
   "cell_type": "code",
   "execution_count": 12,
   "id": "dd4c0226",
   "metadata": {},
   "outputs": [
    {
     "data": {
      "text/plain": [
       "24"
      ]
     },
     "execution_count": 12,
     "metadata": {},
     "output_type": "execute_result"
    }
   ],
   "source": [
    "calculate_age(1997)"
   ]
  },
  {
   "cell_type": "markdown",
   "id": "957355ac",
   "metadata": {},
   "source": [
    "### A few new things"
   ]
  },
  {
   "cell_type": "code",
   "execution_count": 13,
   "id": "dfb9125a",
   "metadata": {},
   "outputs": [
    {
     "data": {
      "text/plain": [
       "65"
      ]
     },
     "execution_count": 13,
     "metadata": {},
     "output_type": "execute_result"
    }
   ],
   "source": [
    "ord(\"A\")"
   ]
  },
  {
   "cell_type": "code",
   "execution_count": 14,
   "id": "b84beaaa",
   "metadata": {},
   "outputs": [
    {
     "data": {
      "text/plain": [
       "97"
      ]
     },
     "execution_count": 14,
     "metadata": {},
     "output_type": "execute_result"
    }
   ],
   "source": [
    "ord('a')"
   ]
  },
  {
   "cell_type": "code",
   "execution_count": 15,
   "id": "96b40be4",
   "metadata": {},
   "outputs": [
    {
     "data": {
      "text/plain": [
       "'A'"
      ]
     },
     "execution_count": 15,
     "metadata": {},
     "output_type": "execute_result"
    }
   ],
   "source": [
    "chr(65)"
   ]
  },
  {
   "cell_type": "code",
   "execution_count": 18,
   "id": "c12554a9",
   "metadata": {},
   "outputs": [
    {
     "name": "stdout",
     "output_type": "stream",
     "text": [
      "65 is A\n",
      "66 is B\n",
      "67 is C\n",
      "68 is D\n",
      "69 is E\n",
      "70 is F\n",
      "71 is G\n",
      "72 is H\n",
      "73 is I\n",
      "74 is J\n",
      "75 is K\n",
      "76 is L\n",
      "77 is M\n",
      "78 is N\n",
      "79 is O\n",
      "80 is P\n",
      "81 is Q\n",
      "82 is R\n",
      "83 is S\n",
      "84 is T\n",
      "85 is U\n",
      "86 is V\n",
      "87 is W\n",
      "88 is X\n",
      "89 is Y\n",
      "90 is Z\n"
     ]
    }
   ],
   "source": [
    "for c in range(65, 65 + 26):\n",
    "    print(f\"{c} is {chr(c)}\")"
   ]
  },
  {
   "cell_type": "code",
   "execution_count": 26,
   "id": "3fabfb17",
   "metadata": {},
   "outputs": [
    {
     "data": {
      "text/plain": [
       "5"
      ]
     },
     "execution_count": 26,
     "metadata": {},
     "output_type": "execute_result"
    }
   ],
   "source": [
    "#Remiander Calculations\n",
    "hours = 50\n",
    "(hours + 3) % 24"
   ]
  },
  {
   "cell_type": "code",
   "execution_count": 27,
   "id": "e0f0215c",
   "metadata": {},
   "outputs": [],
   "source": [
    "def is_even(n):\n",
    "    if n % 2 == 0:\n",
    "        print(\"even\")\n",
    "    else:\n",
    "        print(\"odd\")"
   ]
  },
  {
   "cell_type": "code",
   "execution_count": 28,
   "id": "f5bd50fc",
   "metadata": {},
   "outputs": [
    {
     "name": "stdout",
     "output_type": "stream",
     "text": [
      "odd\n"
     ]
    }
   ],
   "source": [
    "is_even(1)"
   ]
  },
  {
   "cell_type": "code",
   "execution_count": 31,
   "id": "fe3808c1",
   "metadata": {},
   "outputs": [
    {
     "name": "stdout",
     "output_type": "stream",
     "text": [
      "0 even\n",
      "1 odd\n",
      "2 even\n",
      "3 odd\n",
      "4 even\n",
      "5 odd\n",
      "6 even\n",
      "7 odd\n",
      "8 even\n",
      "9 odd\n"
     ]
    }
   ],
   "source": [
    "for i in range(10):\n",
    "    print(i, end=' ')\n",
    "    is_even(i)"
   ]
  },
  {
   "cell_type": "code",
   "execution_count": null,
   "id": "cb51f4e2",
   "metadata": {},
   "outputs": [],
   "source": []
  }
 ],
 "metadata": {
  "kernelspec": {
   "display_name": "Python 3 (ipykernel)",
   "language": "python",
   "name": "python3"
  },
  "language_info": {
   "codemirror_mode": {
    "name": "ipython",
    "version": 3
   },
   "file_extension": ".py",
   "mimetype": "text/x-python",
   "name": "python",
   "nbconvert_exporter": "python",
   "pygments_lexer": "ipython3",
   "version": "3.9.12"
  }
 },
 "nbformat": 4,
 "nbformat_minor": 5
}
