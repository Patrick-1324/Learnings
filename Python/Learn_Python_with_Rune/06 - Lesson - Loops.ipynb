{
 "cells": [
  {
   "cell_type": "markdown",
   "id": "38fd4a7e",
   "metadata": {},
   "source": [
    "# Loops\n",
    "### Goal\n",
    "- Learn how to iterate over lists\n",
    "- Iterate over the chars in a string\n",
    "- Create a for-loop over a range\n",
    "- Create a while-loop"
   ]
  },
  {
   "cell_type": "code",
   "execution_count": 1,
   "id": "25ab2ddf",
   "metadata": {},
   "outputs": [],
   "source": [
    "brics = ['brazil', 'russia', 'india', 'china', 'southafrica']"
   ]
  },
  {
   "cell_type": "code",
   "execution_count": 2,
   "id": "ba9582fb",
   "metadata": {},
   "outputs": [
    {
     "data": {
      "text/plain": [
       "['brazil', 'russia', 'india', 'china', 'southafrica']"
      ]
     },
     "execution_count": 2,
     "metadata": {},
     "output_type": "execute_result"
    }
   ],
   "source": [
    "brics"
   ]
  },
  {
   "cell_type": "code",
   "execution_count": 3,
   "id": "86a4e8fd",
   "metadata": {},
   "outputs": [
    {
     "name": "stdout",
     "output_type": "stream",
     "text": [
      "brazil\n",
      "russia\n",
      "india\n",
      "china\n",
      "southafrica\n"
     ]
    }
   ],
   "source": [
    "for i in brics:\n",
    "    print(i)"
   ]
  },
  {
   "cell_type": "code",
   "execution_count": 6,
   "id": "c44e733b",
   "metadata": {},
   "outputs": [
    {
     "name": "stdout",
     "output_type": "stream",
     "text": [
      "s w a r a j y a "
     ]
    }
   ],
   "source": [
    "s = \"swarajya\"\n",
    "for i in s:\n",
    "    print(i, end=\" \")"
   ]
  },
  {
   "cell_type": "code",
   "execution_count": 8,
   "id": "3945a871",
   "metadata": {},
   "outputs": [
    {
     "name": "stdout",
     "output_type": "stream",
     "text": [
      "s\n",
      "Inside loop\n",
      "w\n",
      "Inside loop\n",
      "a\n",
      "Inside loop\n",
      "r\n",
      "Inside loop\n",
      "a\n",
      "Inside loop\n",
      "j\n",
      "Inside loop\n",
      "y\n",
      "Inside loop\n",
      "a\n",
      "Inside loop\n",
      "loop over\n"
     ]
    }
   ],
   "source": [
    "s = \"swarajya\"\n",
    "for i in s:\n",
    "    print(i)\n",
    "    print(\"Inside loop\")\n",
    "print(\"loop over\")"
   ]
  },
  {
   "cell_type": "code",
   "execution_count": 10,
   "id": "ca6bf486",
   "metadata": {},
   "outputs": [
    {
     "name": "stdout",
     "output_type": "stream",
     "text": [
      "2\n",
      "3\n"
     ]
    }
   ],
   "source": [
    "for i in range(2, 4):\n",
    "    print(i)"
   ]
  },
  {
   "cell_type": "code",
   "execution_count": 11,
   "id": "31e486c5",
   "metadata": {},
   "outputs": [
    {
     "name": "stdout",
     "output_type": "stream",
     "text": [
      "0 brazil\n",
      "1 russia\n",
      "2 india\n",
      "3 china\n",
      "4 southafrica\n"
     ]
    }
   ],
   "source": [
    "for i in range(len(brics)):\n",
    "    print(i, brics[i])"
   ]
  },
  {
   "cell_type": "code",
   "execution_count": 12,
   "id": "8dd486b8",
   "metadata": {},
   "outputs": [
    {
     "name": "stdout",
     "output_type": "stream",
     "text": [
      "Value? 5\n",
      "Value? 6\n",
      "Value? 8\n",
      "Value? 11\n",
      "Value? 0\n"
     ]
    }
   ],
   "source": [
    "value = 10\n",
    "\n",
    "while value > 0:\n",
    "    value = int(input(\"Value? \"))"
   ]
  },
  {
   "cell_type": "markdown",
   "id": "48481a45",
   "metadata": {},
   "source": [
    "### A few new things"
   ]
  },
  {
   "cell_type": "code",
   "execution_count": 15,
   "id": "c423c58e",
   "metadata": {},
   "outputs": [
    {
     "name": "stdout",
     "output_type": "stream",
     "text": [
      "c is not in s\n"
     ]
    }
   ],
   "source": [
    "s = \"abc\"\n",
    "c= 'd'\n",
    "if c in s:\n",
    "    print(\"c is in s\")\n",
    "else:\n",
    "    print(\"c is not in s\")"
   ]
  },
  {
   "cell_type": "code",
   "execution_count": 17,
   "id": "14a4305d",
   "metadata": {},
   "outputs": [],
   "source": [
    "a = 10\n",
    "b = 12\n",
    "c = 12\n",
    "\n",
    "if a < b and b < c:\n",
    "    print(\"That's Great\")"
   ]
  },
  {
   "cell_type": "code",
   "execution_count": null,
   "id": "1d007d5c",
   "metadata": {},
   "outputs": [],
   "source": []
  }
 ],
 "metadata": {
  "kernelspec": {
   "display_name": "Python 3 (ipykernel)",
   "language": "python",
   "name": "python3"
  },
  "language_info": {
   "codemirror_mode": {
    "name": "ipython",
    "version": 3
   },
   "file_extension": ".py",
   "mimetype": "text/x-python",
   "name": "python",
   "nbconvert_exporter": "python",
   "pygments_lexer": "ipython3",
   "version": "3.9.12"
  }
 },
 "nbformat": 4,
 "nbformat_minor": 5
}
