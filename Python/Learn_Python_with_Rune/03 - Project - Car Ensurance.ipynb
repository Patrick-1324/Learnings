{
 "cells": [
  {
   "cell_type": "markdown",
   "id": "768a987c",
   "metadata": {},
   "source": [
    "# Project - Car Ensurance\n",
    "### Goal\n",
    "- Car ensurance calculation based on the following decision tree"
   ]
  },
  {
   "cell_type": "markdown",
   "id": "68ad84be",
   "metadata": {},
   "source": [
    "![alt text](img/DecisionTree.png \"Title\")"
   ]
  },
  {
   "cell_type": "markdown",
   "id": "a5ba9d32",
   "metadata": {},
   "source": [
    "### Description\n",
    "- This is a fictional car insurance company called Car Crash\n",
    "- They calculate the yearly ensurance price based on the current market price of the car\n",
    "- Given the market price: market_price\n",
    "- Then the yearly ensurance price is 9% of the market_price if it is a male above 26 years old.\n",
    "- As we see in the decision tree, we have 4 possible price calculations.\n",
    "- Create a program, which takes input and based on that calculated the correct price for all 4 cases"
   ]
  },
  {
   "cell_type": "code",
   "execution_count": 6,
   "id": "cf8ec9e0",
   "metadata": {},
   "outputs": [
    {
     "name": "stdout",
     "output_type": "stream",
     "text": [
      "Enter the price of the vehicle: Rs10000\n",
      "Enter the gender (M/F):M\n",
      "Enter the Age:30\n",
      "calculated insurrance return will be Rs900.0\n"
     ]
    }
   ],
   "source": [
    "price = input(\"Enter the price of the vehicle: Rs\")\n",
    "price = float(price)\n",
    "gender = input(\"Enter the gender (M/F):\")\n",
    "if gender == 'M':\n",
    "    age = input(\"Enter the Age:\")\n",
    "    age = int(age)\n",
    "    if age <= 26:\n",
    "        perc = 23\n",
    "        new_price = price * 0.23\n",
    "        print(f\"Calculated insurrance return will be Rs{new_price}\")\n",
    "    elif age > 26:\n",
    "        perc = 9\n",
    "        new_price = price * 0.09\n",
    "        print(f\"calculated insurrance return will be Rs{new_price}\")\n",
    "else:\n",
    "    car = input(\"Enter car type (sports/non-sports):\")\n",
    "    car = car.upper()\n",
    "    if car == 'SPORTS':\n",
    "        perc = 21\n",
    "        print(f\"Percent insurrance return will be Rs{perc}\")\n",
    "    else:\n",
    "        perc = 10\n",
    "        new_price = price *0.1\n",
    "        print(f\"Calculated insurrance return will be Rs{new_price}\")\n",
    "        \n",
    "    \n"
   ]
  },
  {
   "cell_type": "code",
   "execution_count": null,
   "id": "176318c9",
   "metadata": {},
   "outputs": [],
   "source": []
  }
 ],
 "metadata": {
  "kernelspec": {
   "display_name": "Python 3 (ipykernel)",
   "language": "python",
   "name": "python3"
  },
  "language_info": {
   "codemirror_mode": {
    "name": "ipython",
    "version": 3
   },
   "file_extension": ".py",
   "mimetype": "text/x-python",
   "name": "python",
   "nbconvert_exporter": "python",
   "pygments_lexer": "ipython3",
   "version": "3.9.12"
  }
 },
 "nbformat": 4,
 "nbformat_minor": 5
}
