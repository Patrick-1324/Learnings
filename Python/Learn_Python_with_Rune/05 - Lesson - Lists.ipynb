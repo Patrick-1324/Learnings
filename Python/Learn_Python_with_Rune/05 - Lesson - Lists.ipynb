{
 "cells": [
  {
   "cell_type": "markdown",
   "id": "47287ae4",
   "metadata": {},
   "source": [
    "# Lists\n",
    "### Goal\n",
    "- Learn about lists\n",
    "- How to get a random element from a list\n",
    "- How to make a randomization of a string\n",
    "- A few nice functions"
   ]
  },
  {
   "cell_type": "code",
   "execution_count": 1,
   "id": "59280bb1",
   "metadata": {},
   "outputs": [],
   "source": [
    "my_list = ['Apple', 'Orange', 'Banana']"
   ]
  },
  {
   "cell_type": "code",
   "execution_count": 2,
   "id": "a78c5d0b",
   "metadata": {},
   "outputs": [
    {
     "data": {
      "text/plain": [
       "['Apple', 'Orange', 'Banana']"
      ]
     },
     "execution_count": 2,
     "metadata": {},
     "output_type": "execute_result"
    }
   ],
   "source": [
    "my_list"
   ]
  },
  {
   "cell_type": "code",
   "execution_count": 3,
   "id": "bc923aa5",
   "metadata": {},
   "outputs": [
    {
     "data": {
      "text/plain": [
       "('Apple', 'Orange')"
      ]
     },
     "execution_count": 3,
     "metadata": {},
     "output_type": "execute_result"
    }
   ],
   "source": [
    "my_list[0], my_list[1]"
   ]
  },
  {
   "cell_type": "code",
   "execution_count": 4,
   "id": "ff43505f",
   "metadata": {},
   "outputs": [
    {
     "data": {
      "text/plain": [
       "'Banana'"
      ]
     },
     "execution_count": 4,
     "metadata": {},
     "output_type": "execute_result"
    }
   ],
   "source": [
    "my_list[-1]"
   ]
  },
  {
   "cell_type": "code",
   "execution_count": 5,
   "id": "ceb91ff2",
   "metadata": {},
   "outputs": [
    {
     "data": {
      "text/plain": [
       "'Orange'"
      ]
     },
     "execution_count": 5,
     "metadata": {},
     "output_type": "execute_result"
    }
   ],
   "source": [
    "my_list[-2]"
   ]
  },
  {
   "cell_type": "code",
   "execution_count": 6,
   "id": "a00fc7e1",
   "metadata": {},
   "outputs": [
    {
     "data": {
      "text/plain": [
       "'Apple'"
      ]
     },
     "execution_count": 6,
     "metadata": {},
     "output_type": "execute_result"
    }
   ],
   "source": [
    "my_list.pop(0)"
   ]
  },
  {
   "cell_type": "code",
   "execution_count": 7,
   "id": "bfa71b2b",
   "metadata": {},
   "outputs": [
    {
     "data": {
      "text/plain": [
       "['Orange', 'Banana']"
      ]
     },
     "execution_count": 7,
     "metadata": {},
     "output_type": "execute_result"
    }
   ],
   "source": [
    "my_list"
   ]
  },
  {
   "cell_type": "code",
   "execution_count": 8,
   "id": "0afb86b1",
   "metadata": {},
   "outputs": [],
   "source": [
    "my_list.append('Apple')"
   ]
  },
  {
   "cell_type": "code",
   "execution_count": 9,
   "id": "fe124d24",
   "metadata": {},
   "outputs": [
    {
     "data": {
      "text/plain": [
       "['Orange', 'Banana', 'Apple']"
      ]
     },
     "execution_count": 9,
     "metadata": {},
     "output_type": "execute_result"
    }
   ],
   "source": [
    "my_list"
   ]
  },
  {
   "cell_type": "code",
   "execution_count": 10,
   "id": "af54faed",
   "metadata": {},
   "outputs": [],
   "source": [
    "another_list = ['Russia', 'India', 'China']"
   ]
  },
  {
   "cell_type": "code",
   "execution_count": 14,
   "id": "39f5e318",
   "metadata": {},
   "outputs": [],
   "source": [
    "new_list = my_list + another_list"
   ]
  },
  {
   "cell_type": "code",
   "execution_count": 15,
   "id": "124297cb",
   "metadata": {},
   "outputs": [],
   "source": [
    "import random"
   ]
  },
  {
   "cell_type": "code",
   "execution_count": 16,
   "id": "4b79b547",
   "metadata": {},
   "outputs": [
    {
     "data": {
      "text/plain": [
       "'Orange'"
      ]
     },
     "execution_count": 16,
     "metadata": {},
     "output_type": "execute_result"
    }
   ],
   "source": [
    "random.choice(new_list)"
   ]
  },
  {
   "cell_type": "code",
   "execution_count": 18,
   "id": "62b59af2",
   "metadata": {},
   "outputs": [],
   "source": [
    "random.shuffle(new_list)"
   ]
  },
  {
   "cell_type": "code",
   "execution_count": 19,
   "id": "d86d26ee",
   "metadata": {},
   "outputs": [
    {
     "data": {
      "text/plain": [
       "['Orange', 'China', 'Banana', 'Russia', 'India', 'Apple']"
      ]
     },
     "execution_count": 19,
     "metadata": {},
     "output_type": "execute_result"
    }
   ],
   "source": [
    "new_list"
   ]
  },
  {
   "cell_type": "code",
   "execution_count": 20,
   "id": "9f67e66f",
   "metadata": {},
   "outputs": [
    {
     "data": {
      "text/plain": [
       "'Orange China Banana Russia India Apple'"
      ]
     },
     "execution_count": 20,
     "metadata": {},
     "output_type": "execute_result"
    }
   ],
   "source": [
    "' '.join(new_list)"
   ]
  },
  {
   "cell_type": "code",
   "execution_count": 21,
   "id": "609e36fb",
   "metadata": {},
   "outputs": [
    {
     "data": {
      "text/plain": [
       "'OrangeChinaBananaRussiaIndiaApple'"
      ]
     },
     "execution_count": 21,
     "metadata": {},
     "output_type": "execute_result"
    }
   ],
   "source": [
    "''.join(new_list)"
   ]
  },
  {
   "cell_type": "code",
   "execution_count": 23,
   "id": "27e07f1b",
   "metadata": {},
   "outputs": [
    {
     "data": {
      "text/plain": [
       "['A', 'm', 'o', 'w', 's', 'e', 'e']"
      ]
     },
     "execution_count": 23,
     "metadata": {},
     "output_type": "execute_result"
    }
   ],
   "source": [
    "s = \"Awesome\"\n",
    "random.sample(s, len(s))"
   ]
  },
  {
   "cell_type": "code",
   "execution_count": 24,
   "id": "c001d424",
   "metadata": {},
   "outputs": [
    {
     "data": {
      "text/plain": [
       "7"
      ]
     },
     "execution_count": 24,
     "metadata": {},
     "output_type": "execute_result"
    }
   ],
   "source": [
    "len(s)"
   ]
  },
  {
   "cell_type": "code",
   "execution_count": 25,
   "id": "b70834bd",
   "metadata": {},
   "outputs": [
    {
     "data": {
      "text/plain": [
       "'Ameoews'"
      ]
     },
     "execution_count": 25,
     "metadata": {},
     "output_type": "execute_result"
    }
   ],
   "source": [
    "''.join(random.sample(s, len(s)))"
   ]
  },
  {
   "cell_type": "code",
   "execution_count": 26,
   "id": "1c9fef4e",
   "metadata": {},
   "outputs": [],
   "source": [
    "mynums = [5,6,2,8,5]"
   ]
  },
  {
   "cell_type": "code",
   "execution_count": 27,
   "id": "96709a80",
   "metadata": {},
   "outputs": [
    {
     "data": {
      "text/plain": [
       "8"
      ]
     },
     "execution_count": 27,
     "metadata": {},
     "output_type": "execute_result"
    }
   ],
   "source": [
    "max (mynums)"
   ]
  },
  {
   "cell_type": "code",
   "execution_count": 28,
   "id": "36f88c3b",
   "metadata": {},
   "outputs": [
    {
     "data": {
      "text/plain": [
       "26"
      ]
     },
     "execution_count": 28,
     "metadata": {},
     "output_type": "execute_result"
    }
   ],
   "source": [
    "sum(mynums)"
   ]
  },
  {
   "cell_type": "code",
   "execution_count": 29,
   "id": "42b32219",
   "metadata": {},
   "outputs": [
    {
     "data": {
      "text/plain": [
       "5"
      ]
     },
     "execution_count": 29,
     "metadata": {},
     "output_type": "execute_result"
    }
   ],
   "source": [
    "len(mynums)"
   ]
  },
  {
   "cell_type": "code",
   "execution_count": 31,
   "id": "5e82b34b",
   "metadata": {},
   "outputs": [
    {
     "data": {
      "text/plain": [
       "5.2"
      ]
     },
     "execution_count": 31,
     "metadata": {},
     "output_type": "execute_result"
    }
   ],
   "source": [
    "sum(mynums)/len(mynums)#average"
   ]
  },
  {
   "cell_type": "code",
   "execution_count": null,
   "id": "7a2e97dd",
   "metadata": {},
   "outputs": [],
   "source": []
  }
 ],
 "metadata": {
  "kernelspec": {
   "display_name": "Python 3 (ipykernel)",
   "language": "python",
   "name": "python3"
  },
  "language_info": {
   "codemirror_mode": {
    "name": "ipython",
    "version": 3
   },
   "file_extension": ".py",
   "mimetype": "text/x-python",
   "name": "python",
   "nbconvert_exporter": "python",
   "pygments_lexer": "ipython3",
   "version": "3.9.12"
  }
 },
 "nbformat": 4,
 "nbformat_minor": 5
}
