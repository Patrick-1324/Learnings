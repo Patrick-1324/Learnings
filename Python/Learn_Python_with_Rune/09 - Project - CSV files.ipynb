{
 "cells": [
  {
   "cell_type": "markdown",
   "id": "98fb235d",
   "metadata": {},
   "source": [
    "# Project - CSV files - Cars\n",
    "### Goal\n",
    "- Learn how to read and process [CSV files](https://en.wikipedia.org/wiki/Comma-separated_values)\n",
    "- Process files/cars.csv and calculate the average horsepower for each car brand"
   ]
  },
  {
   "cell_type": "markdown",
   "id": "4dc1f650",
   "metadata": {},
   "source": [
    "### Description\n",
    "- Process the file files/cars.csv and calculate the average horsepower for each car brand\n",
    "- Step 1: import csv\n",
    "- Step 2: Read CSV file into a list of dictionaries\n",
    "- Step 3: Use a dictionary to have a list of horsepowers for each car brand\n",
    "    - HINT: Car brand is called **Make** in dataset\n",
    "    - HINT: Use .get(car['Make'], []) + [car['Horsepower']]\n",
    "- Step 4: Use a new dictionary to keep the calculated average horsepower we will calculate in a for-loop over the dictionary from Step 3.\n",
    "    - HINT: Use another (nested) for-loop inside the for-loop to sum up the horsepowers."
   ]
  },
  {
   "cell_type": "code",
   "execution_count": 1,
   "id": "d8745c8a",
   "metadata": {},
   "outputs": [],
   "source": [
    "import csv"
   ]
  },
  {
   "cell_type": "code",
   "execution_count": 23,
   "id": "258ce00a",
   "metadata": {},
   "outputs": [],
   "source": [
    "with open(\"files/cars.csv\", \"r\") as f:\n",
    "    csv_reader = csv.DictReader(f)\n",
    "    car_records = list(csv_reader)\n",
    "# print(car_records)\n",
    "car_brands = {}\n",
    "for car in car_records:\n",
    "    car_brands[car['Make']] = car_brands.get(car['Make'], []) + [car['Horsepower']]\n",
    "# print(car_brands)\n"
   ]
  },
  {
   "cell_type": "code",
   "execution_count": 22,
   "id": "730ef793",
   "metadata": {},
   "outputs": [
    {
     "name": "stdout",
     "output_type": "stream",
     "text": [
      "Audi : 300.18\n",
      "Acura : 262.85\n",
      "BMW : 347.18\n",
      "Chevrolet : 294.81\n",
      "Nissan : 269.21\n",
      "Volvo : 247.24\n",
      "Bentley : 577.44\n",
      "Toyota : 253.45\n",
      "Honda : 188.22\n",
      "Ford : 275.41\n",
      "Rolls-Royce : 475.0\n",
      "Volkswagen : 192.5\n",
      "Maybach : 599.85\n",
      "Lamborghini : 554.8\n",
      "Lexus : 301.62\n",
      "Hyundai : 207.3\n",
      "Mercedes : 280.22\n",
      "BMW Motorrad : 233.62\n",
      "Kia : 179.74\n",
      "AMG : 525.9\n",
      "Mazda : 187.15\n",
      "Mercedes-Benz : 388.43\n",
      "Mercedes-AMG : 494.83\n",
      "Mitsubishi : 195.35\n",
      "Cadillac : 340.98\n",
      "Infiniti : 322.13\n",
      "Dodge : 303.93\n",
      "Lincoln : 290.56\n",
      "GMC : 285.98\n",
      "Porsche : 376.55\n",
      "Jeep : 207.61\n",
      "Subaru : 205.21\n",
      "Buick : 249.89\n",
      "Suzuki : 185.14\n",
      "Saab : 222.54\n",
      "Aston Martin : 470.0\n",
      "Grand Cherokee : 320.06\n",
      "Land Rover : 373.86\n",
      "Chrysler : 246.7\n",
      "Ferrari : 540.0\n",
      "Scion : 156.62\n",
      "MINI : 160.97\n",
      "Jaguar : 448.75\n",
      "Chrysler Group LLC : 279.17\n",
      "Lotus : 231.0\n",
      "Maserati : 422.5\n",
      "Mercury : 205.21\n"
     ]
    }
   ],
   "source": [
    "car_brand_hp = {}\n",
    "for car_brand, hp_list in car_brands.items():\n",
    "    hp_sum = 0\n",
    "    for hp in hp_list:\n",
    "        hp_sum = hp_sum + int(hp)\n",
    "    car_brand_hp[car_brand] = round(hp_sum / len(hp_list), 2)\n",
    "    print(f\"{car_brand} : {car_brand_hp[car_brand]}\")"
   ]
  },
  {
   "cell_type": "code",
   "execution_count": null,
   "id": "6718fbcc",
   "metadata": {},
   "outputs": [],
   "source": []
  },
  {
   "cell_type": "code",
   "execution_count": null,
   "id": "164501bc",
   "metadata": {},
   "outputs": [],
   "source": []
  }
 ],
 "metadata": {
  "kernelspec": {
   "display_name": "Python 3 (ipykernel)",
   "language": "python",
   "name": "python3"
  },
  "language_info": {
   "codemirror_mode": {
    "name": "ipython",
    "version": 3
   },
   "file_extension": ".py",
   "mimetype": "text/x-python",
   "name": "python",
   "nbconvert_exporter": "python",
   "pygments_lexer": "ipython3",
   "version": "3.9.12"
  }
 },
 "nbformat": 4,
 "nbformat_minor": 5
}
