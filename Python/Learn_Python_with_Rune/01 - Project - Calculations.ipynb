{
 "cells": [
  {
   "cell_type": "markdown",
   "id": "892e976a",
   "metadata": {},
   "source": [
    "# Project - Calculations\n",
    "## Goal\n",
    "- Using Jupyter Notebook as a Calculator\n",
    "- Understand how cells keeps track of calcualtions"
   ]
  },
  {
   "cell_type": "markdown",
   "id": "7cbc5fe8",
   "metadata": {},
   "source": [
    "### Description\n",
    "- Create formulas\n",
    "- Have some fun with basic math"
   ]
  },
  {
   "cell_type": "markdown",
   "id": "662a40a8",
   "metadata": {},
   "source": [
    "### Step 1\n",
    "- Make a convertion from **kg** to **lbs**\n",
    "- Use this formula: $lbs = kg \\times 2.2046$\n",
    "- Make the cell to use variables"
   ]
  },
  {
   "cell_type": "code",
   "execution_count": 7,
   "id": "138f5d76",
   "metadata": {},
   "outputs": [
    {
     "name": "stdout",
     "output_type": "stream",
     "text": [
      "Input the weight in KG: 50\n",
      "Weight in lbs is 110.23\n"
     ]
    }
   ],
   "source": [
    "kg = float(input(\"Input the weight in KG: \"))\n",
    "lbs = kg * 2.2046\n",
    "print(f\"Weight in lbs is {lbs}\")"
   ]
  },
  {
   "cell_type": "markdown",
   "id": "26b37d02",
   "metadata": {},
   "source": [
    "### Step 2\n",
    "- Make calculation of circumference of a circle\n",
    "- The cell should define the radius\n",
    "- Calculate the circumference by the formula: $c = 2 \\times \\pi \\times r$\n",
    "- Define $\\pi = 3.14$ (use variable name **pi**)\n",
    "- Let the cell return the circumference"
   ]
  },
  {
   "cell_type": "code",
   "execution_count": 13,
   "id": "d04920c0",
   "metadata": {},
   "outputs": [
    {
     "name": "stdout",
     "output_type": "stream",
     "text": [
      "Enter Radius of the Circle 8\n",
      "Circumference of the circle will be 50.24\n"
     ]
    }
   ],
   "source": [
    "r = float(input(\"Enter Radius of the Circle \"))\n",
    "pi = 3.14\n",
    "c = 2*pi*r\n",
    "print(f\"Circumference of the circle will be {round(c, 2)}\")"
   ]
  },
  {
   "cell_type": "markdown",
   "id": "be3c9be3",
   "metadata": {},
   "source": [
    "### Step 3\n",
    "1. Assign a variable to a any number (integer).\n",
    "2. Multiply the number by 3.\n",
    "3. Add 6 to the result from bullet 2.\n",
    "4. Divide this number by 3.\n",
    "5. Subtract the number from bullet 1 from the answer in bullet 4.\n",
    "6. The answer is 2."
   ]
  },
  {
   "cell_type": "code",
   "execution_count": 1,
   "id": "2923c427",
   "metadata": {},
   "outputs": [
    {
     "name": "stdout",
     "output_type": "stream",
     "text": [
      "2.0\n"
     ]
    }
   ],
   "source": [
    "num = 5\n",
    "num = num * 3\n",
    "num = num + 6\n",
    "num = num / 3\n",
    "num = num - 5\n",
    "print(num)"
   ]
  },
  {
   "cell_type": "code",
   "execution_count": null,
   "id": "9af4ac9f",
   "metadata": {},
   "outputs": [],
   "source": []
  }
 ],
 "metadata": {
  "kernelspec": {
   "display_name": "Python 3 (ipykernel)",
   "language": "python",
   "name": "python3"
  },
  "language_info": {
   "codemirror_mode": {
    "name": "ipython",
    "version": 3
   },
   "file_extension": ".py",
   "mimetype": "text/x-python",
   "name": "python",
   "nbconvert_exporter": "python",
   "pygments_lexer": "ipython3",
   "version": "3.9.12"
  }
 },
 "nbformat": 4,
 "nbformat_minor": 5
}
