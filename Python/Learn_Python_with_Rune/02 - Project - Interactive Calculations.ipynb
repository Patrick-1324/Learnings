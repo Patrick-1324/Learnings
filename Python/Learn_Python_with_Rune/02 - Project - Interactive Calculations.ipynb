{
 "cells": [
  {
   "cell_type": "markdown",
   "id": "1e90ae9e",
   "metadata": {},
   "source": [
    "# Project - Interactive Calculations\n",
    "### Goal\n",
    "- Multiply two numbers\n",
    "- Days since you were born\n",
    "- Tip calculator"
   ]
  },
  {
   "cell_type": "markdown",
   "id": "c0e2f955",
   "metadata": {},
   "source": [
    "### Step 1\n",
    "- Input a value from the user and keep it in variable **a**.\n",
    "- Input another value from the user and keep it in variable **b**.\n",
    "- Print the product of the two values (**a*b**)."
   ]
  },
  {
   "cell_type": "code",
   "execution_count": 3,
   "id": "229ffd0e",
   "metadata": {},
   "outputs": [
    {
     "name": "stdout",
     "output_type": "stream",
     "text": [
      "Enter the first value: 5\n",
      "Enter the anothre Value: 7\n",
      "35\n"
     ]
    }
   ],
   "source": [
    "a = int(input(\"Enter the first value: \"))\n",
    "b = input(\"Enter the anothre Value: \")\n",
    "b = int(b)\n",
    "print(a * b)"
   ]
  },
  {
   "cell_type": "markdown",
   "id": "c2d9df01",
   "metadata": {},
   "source": [
    "### Step 2\n",
    "- Input how many years the user it.\n",
    "- Convert the years to an integer.\n",
    "- Calculate how many days, hours, minutes, and seconds since the user is born."
   ]
  },
  {
   "cell_type": "code",
   "execution_count": 6,
   "id": "c9f61930",
   "metadata": {},
   "outputs": [
    {
     "name": "stdout",
     "output_type": "stream",
     "text": [
      "How old are you? 25\n",
      "You are 9125 days old\n",
      "You are 219000 hours old\n",
      "You are 13140000 minutes old\n",
      "You are 788400000 seconds old\n"
     ]
    }
   ],
   "source": [
    "age = input(\"How old are you? \")\n",
    "age = int(age)\n",
    "print(f\"You are {age * 365} days old\")\n",
    "print(f\"You are {age * 365*24} hours old\")\n",
    "print(f\"You are {age * 365*24*60} minutes old\")\n",
    "print(f\"You are {age * 365*24*60*60} seconds old\")"
   ]
  },
  {
   "cell_type": "markdown",
   "id": "d9155941",
   "metadata": {},
   "source": [
    "### Step 3\n",
    "- Here we will make a tip calculator.\n",
    "- Input the price.\n",
    "- Convert the price to an integer.\n",
    "- Input the percentage the user wants to tip.\n",
    "- Convert the percentage to an integer.\n",
    "- Calculate the tip by the following formula: **tip = price $\\times$ percentage_tip / 100**.\n",
    "- Round the tip to two digits.\n",
    "- Print the the tip.\n",
    "- *BONUS:* Adjust the code to take float input of percentage tip"
   ]
  },
  {
   "cell_type": "code",
   "execution_count": 4,
   "id": "36cedfcb",
   "metadata": {},
   "outputs": [
    {
     "name": "stdout",
     "output_type": "stream",
     "text": [
      "Enter the price to be paid: 50\n",
      "Input the precentage to tip: 10\n",
      "the tip to be paid is: 5.0\n"
     ]
    }
   ],
   "source": [
    "price = int(input(\"Enter the price to be paid: \"))\n",
    "percentage_tip = int(input(\"Input the precentage to tip: \"))\n",
    "tip = price * percentage_tip / 100\n",
    "round(tip, 2)\n",
    "print(f\"the tip to be paid is: {tip}\")"
   ]
  },
  {
   "cell_type": "code",
   "execution_count": null,
   "id": "554d6600",
   "metadata": {},
   "outputs": [],
   "source": []
  }
 ],
 "metadata": {
  "kernelspec": {
   "display_name": "Python 3 (ipykernel)",
   "language": "python",
   "name": "python3"
  },
  "language_info": {
   "codemirror_mode": {
    "name": "ipython",
    "version": 3
   },
   "file_extension": ".py",
   "mimetype": "text/x-python",
   "name": "python",
   "nbconvert_exporter": "python",
   "pygments_lexer": "ipython3",
   "version": "3.9.12"
  }
 },
 "nbformat": 4,
 "nbformat_minor": 5
}
