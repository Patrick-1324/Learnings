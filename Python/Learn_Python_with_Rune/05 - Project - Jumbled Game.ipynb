{
 "cells": [
  {
   "cell_type": "markdown",
   "id": "b79cde9a",
   "metadata": {},
   "source": [
    "# Project - Jumbled Game\n",
    "### Goal\n",
    "- Implement the [Jumbled Game](https://en.wikipedia.org/wiki/Jumble)"
   ]
  },
  {
   "cell_type": "markdown",
   "id": "4195f30f",
   "metadata": {},
   "source": [
    "### Description\n",
    "- A word jumble is a word puzzle game that presents the player with a bunch of mixed up letters and requires them to unscramble the letters to find the hidden word.\n",
    "- The computer will take word and jumble it (mix up the letters).\n",
    "- Then the player will guess what the word is\n",
    "- An initial word list could be: ['father', 'enterprise', 'science', 'programming', 'resistance', 'fiction', 'condition', 'reverse', 'computer', 'python']"
   ]
  },
  {
   "cell_type": "code",
   "execution_count": 3,
   "id": "bf1ffe93",
   "metadata": {},
   "outputs": [
    {
     "name": "stdout",
     "output_type": "stream",
     "text": [
      "Jumbled word is eieasstnrc\n",
      "Enter the identified Word: sadsadsa\n",
      "Incorrect, the Word is resistance\n"
     ]
    }
   ],
   "source": [
    "import random\n",
    "words = ['father', 'enterprise', 'science', 'programming', 'resistance', 'fiction', 'condition', 'reverse', 'computer', 'python']\n",
    "word = random.choice(words)\n",
    "\n",
    "jumbled_word =''.join(random.sample(word, len(word)))\n",
    "\n",
    "print(f\"Jumbled word is {jumbled_word}\")\n",
    "answer = input(\"Enter the identified Word: \")\n",
    "\n",
    "if answer != word:\n",
    "    print(f\"Incorrect, the Word is {word}\")\n",
    "else:\n",
    "    print(\"That's Correct\")\n",
    "        "
   ]
  },
  {
   "cell_type": "code",
   "execution_count": null,
   "id": "8c6076f7",
   "metadata": {},
   "outputs": [],
   "source": []
  }
 ],
 "metadata": {
  "kernelspec": {
   "display_name": "Python 3 (ipykernel)",
   "language": "python",
   "name": "python3"
  },
  "language_info": {
   "codemirror_mode": {
    "name": "ipython",
    "version": 3
   },
   "file_extension": ".py",
   "mimetype": "text/x-python",
   "name": "python",
   "nbconvert_exporter": "python",
   "pygments_lexer": "ipython3",
   "version": "3.9.12"
  }
 },
 "nbformat": 4,
 "nbformat_minor": 5
}
